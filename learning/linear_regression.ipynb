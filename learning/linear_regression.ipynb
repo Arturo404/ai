{
 "cells": [
  {
   "cell_type": "markdown",
   "id": "1b07c142",
   "metadata": {},
   "source": [
    "# What is regression ?\n",
    "\n",
    "According to Wikipedia:\n",
    ">In statistical modeling, regression analysis is a set of statistical processes for estimating the relationships between a dependent variable (often called the outcome or response variable, or a label in machine learning parlance) and one or more error-free independent variables (often called regressors, predictors, covariates, explanatory variables or features).\n",
    "\n",
    "In machine learning regression refers to a supervised learning technique where the goal is to predict a continuous numerical value based on one or more independent features."
   ]
  },
  {
   "cell_type": "markdown",
   "id": "aa66c0ac",
   "metadata": {},
   "source": [
    "# What is linear regression ?\n",
    "\n",
    "According to Wikipedia:\n",
    ">In statistics, linear regression is a model that estimates the relationship between a scalar response (dependent variable) and one or more explanatory variables (regressor or independent variable) using linear predictor functions whose unknown model parameters are estimated from the data.\n",
    "\n",
    "In machine learning linear regression is a specific type of regression model that predicts the output as a linear function of the input features.\n",
    "\n",
    "More specifically, in linear regression, given an input features vector $x=\\begin{pmatrix} x_{0}=1 \\\\ x_{1} \\\\ x_{2} \\\\ ... \\\\ x_{n} \\end{pmatrix}$, the model predicts the output according to the following hypothesis function:\n",
    "\n",
    "\n",
    "$$\n",
    "h_\\Theta(x) = \\Theta_{0}\\underbrace{x_{0}}_{=1} + \\Theta_{1}x_{1} + \\Theta_{2}x_{2} + ... + \\Theta_{n}x_{n}\n",
    "$$\n",
    "\n",
    "$$\n",
    "h_\\Theta(x) = \\Theta^{T}x\n",
    "$$\n",
    "  \n",
    "<br><br>\n",
    "$\\Theta_{0}$ is called the bias of the model. It allows the model to shift the regression line predicted up or down so it can better fit the data. \n",
    "\n",
    "Without it, the output for $x=\\begin{pmatrix} 0 \\\\ 0 \\\\ ... \\\\ 0 \\end{pmatrix}$ would always be 0.\n"
   ]
  },
  {
   "cell_type": "code",
   "execution_count": null,
   "id": "77fa541f",
   "metadata": {},
   "outputs": [],
   "source": []
  }
 ],
 "metadata": {
  "kernelspec": {
   "display_name": "Python 3",
   "language": "python",
   "name": "python3"
  },
  "language_info": {
   "codemirror_mode": {
    "name": "ipython",
    "version": 3
   },
   "file_extension": ".py",
   "mimetype": "text/x-python",
   "name": "python",
   "nbconvert_exporter": "python",
   "pygments_lexer": "ipython3",
   "version": "3.6.3"
  }
 },
 "nbformat": 4,
 "nbformat_minor": 5
}
