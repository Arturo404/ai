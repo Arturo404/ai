{
 "cells": [
  {
   "cell_type": "markdown",
   "id": "1b07c142",
   "metadata": {},
   "source": [
    "# What is regression ?\n",
    "\n",
    "Mathematically speaking, according to Wikipedia:\n",
    ">In statistical modeling, regression analysis is a set of statistical processes for estimating the relationships between a dependent variable (often called the outcome or response variable, or a label in machine learning parlance) and one or more error-free independent variables (often called regressors, predictors, covariates, explanatory variables or features).\n",
    "\n",
    "In machine learning regression refers to a supervised learning technique where the goal is to predict a continuous numerical value based on one or more independent features."
   ]
  },
  {
   "cell_type": "markdown",
   "id": "aa66c0ac",
   "metadata": {},
   "source": [
    "# What is linear regression ?\n",
    "\n",
    "Mathematically speaking, according to Wikipedia:\n",
    ">In statistics, linear regression is a model that estimates the relationship between a scalar response (dependent variable) and one or more explanatory variables (regressor or independent variable) using linear predictor functions whose unknown model parameters are estimated from the data.\n",
    "\n",
    "In machine learning linear regression is a specific type of regression model that predicts the output as a linear function of the input features.\n",
    "\n",
    "More specifically, in linear regression, given an input features vector $x=\\begin{pmatrix} x_{0}=1 & x_{1} & x_{2} & ... & x_{n} \\end{pmatrix}$, and a vector of weights $\\theta=\\begin{pmatrix} \\theta_{0} & \\theta_{1} & \\theta_{2} & ... & \\theta_{n} \\end{pmatrix}$ the model predicts the output according to the following hypothesis function:\n",
    "\n",
    "\n",
    "$$\n",
    "h_\\theta(x) = \\theta_{0}\\underbrace{x_{0}}_{=1} + \\theta_{1}x_{1} + \\theta_{2}x_{2} + ... + \\theta_{n}x_{n}\n",
    "$$\n",
    "\n",
    "$$\n",
    "h_\\theta(x) = \\theta^{T}x\n",
    "$$\n",
    "  \n",
    "<br><br>\n",
    "$\\theta_{0}$ is called the bias of the model. It allows the model to shift the regression line predicted up or down so it can better fit the data. \n",
    "\n",
    "Without it, the output for $x=\\begin{pmatrix} 0 & 0 & ... & 0 \\end{pmatrix}$ would always be 0.\n"
   ]
  },
  {
   "cell_type": "markdown",
   "id": "181c6a82",
   "metadata": {},
   "source": [
    "# Let's see an example\n",
    "\n",
    "To get a better understanding of simple linear regression (one input feature, one output value), we will use a simple dataset found on Kaggle (https://www.kaggle.com/datasets/abhishek14398/salary-dataset-simple-linear-regression/data). This dataset is called \"Salary Dataset\" and contains entries with two columns: years of experience and salary. It provides of examples the salaries of various employees according to their experience (measured in years)."
   ]
  },
  {
   "cell_type": "markdown",
   "id": "a8fda13e-7080-4915-9135-654dd8b6f677",
   "metadata": {},
   "source": [
    "### Setup"
   ]
  },
  {
   "cell_type": "code",
   "execution_count": 29,
   "id": "45ab8693",
   "metadata": {
    "collapsed": true,
    "jupyter": {
     "outputs_hidden": true
    }
   },
   "outputs": [
    {
     "name": "stdout",
     "output_type": "stream",
     "text": [
      "Requirement already satisfied: kagglehub in c:\\users\\arthur\\appdata\\local\\programs\\python\\python311\\lib\\site-packages (0.3.11)\n",
      "Requirement already satisfied: packaging in c:\\users\\arthur\\appdata\\local\\programs\\python\\python311\\lib\\site-packages (from kagglehub) (25.0)\n",
      "Requirement already satisfied: pyyaml in c:\\users\\arthur\\appdata\\local\\programs\\python\\python311\\lib\\site-packages (from kagglehub) (6.0.2)\n",
      "Requirement already satisfied: requests in c:\\users\\arthur\\appdata\\local\\programs\\python\\python311\\lib\\site-packages (from kagglehub) (2.31.0)\n",
      "Requirement already satisfied: tqdm in c:\\users\\arthur\\appdata\\local\\programs\\python\\python311\\lib\\site-packages (from kagglehub) (4.67.1)\n",
      "Requirement already satisfied: charset-normalizer<4,>=2 in c:\\users\\arthur\\appdata\\local\\programs\\python\\python311\\lib\\site-packages (from requests->kagglehub) (3.3.2)\n",
      "Requirement already satisfied: idna<4,>=2.5 in c:\\users\\arthur\\appdata\\local\\programs\\python\\python311\\lib\\site-packages (from requests->kagglehub) (3.6)\n",
      "Requirement already satisfied: urllib3<3,>=1.21.1 in c:\\users\\arthur\\appdata\\local\\programs\\python\\python311\\lib\\site-packages (from requests->kagglehub) (2.1.0)\n",
      "Requirement already satisfied: certifi>=2017.4.17 in c:\\users\\arthur\\appdata\\local\\programs\\python\\python311\\lib\\site-packages (from requests->kagglehub) (2023.11.17)\n",
      "Requirement already satisfied: colorama in c:\\users\\arthur\\appdata\\local\\programs\\python\\python311\\lib\\site-packages (from tqdm->kagglehub) (0.4.6)\n",
      "Note: you may need to restart the kernel to use updated packages.\n",
      "Requirement already satisfied: matplotlib in c:\\users\\arthur\\appdata\\local\\programs\\python\\python311\\lib\\site-packages (3.10.1)\n",
      "Requirement already satisfied: contourpy>=1.0.1 in c:\\users\\arthur\\appdata\\local\\programs\\python\\python311\\lib\\site-packages (from matplotlib) (1.3.2)\n",
      "Requirement already satisfied: cycler>=0.10 in c:\\users\\arthur\\appdata\\local\\programs\\python\\python311\\lib\\site-packages (from matplotlib) (0.12.1)\n",
      "Requirement already satisfied: fonttools>=4.22.0 in c:\\users\\arthur\\appdata\\local\\programs\\python\\python311\\lib\\site-packages (from matplotlib) (4.57.0)\n",
      "Requirement already satisfied: kiwisolver>=1.3.1 in c:\\users\\arthur\\appdata\\local\\programs\\python\\python311\\lib\\site-packages (from matplotlib) (1.4.8)\n",
      "Requirement already satisfied: numpy>=1.23 in c:\\users\\arthur\\appdata\\local\\programs\\python\\python311\\lib\\site-packages (from matplotlib) (2.2.5)\n",
      "Requirement already satisfied: packaging>=20.0 in c:\\users\\arthur\\appdata\\local\\programs\\python\\python311\\lib\\site-packages (from matplotlib) (25.0)\n",
      "Requirement already satisfied: pillow>=8 in c:\\users\\arthur\\appdata\\local\\programs\\python\\python311\\lib\\site-packages (from matplotlib) (11.2.1)\n",
      "Requirement already satisfied: pyparsing>=2.3.1 in c:\\users\\arthur\\appdata\\local\\programs\\python\\python311\\lib\\site-packages (from matplotlib) (3.2.3)\n",
      "Requirement already satisfied: python-dateutil>=2.7 in c:\\users\\arthur\\appdata\\local\\programs\\python\\python311\\lib\\site-packages (from matplotlib) (2.9.0.post0)\n",
      "Requirement already satisfied: six>=1.5 in c:\\users\\arthur\\appdata\\local\\programs\\python\\python311\\lib\\site-packages (from python-dateutil>=2.7->matplotlib) (1.17.0)\n",
      "Note: you may need to restart the kernel to use updated packages.\n",
      "Requirement already satisfied: numpy in c:\\users\\arthur\\appdata\\local\\programs\\python\\python311\\lib\\site-packages (2.2.5)\n",
      "Note: you may need to restart the kernel to use updated packages.\n"
     ]
    }
   ],
   "source": [
    "# Install dependencies as needed:\n",
    "%pip install kagglehub\n",
    "%pip install matplotlib\n",
    "%pip install numpy"
   ]
  },
  {
   "cell_type": "code",
   "execution_count": 30,
   "id": "56d07371-24cd-4024-8bd8-c540a58daea9",
   "metadata": {},
   "outputs": [],
   "source": [
    "#Import dependencies\n",
    "\n",
    "import kagglehub\n",
    "from kagglehub import KaggleDatasetAdapter\n",
    "import matplotlib.pyplot as plt\n",
    "import numpy as np"
   ]
  },
  {
   "cell_type": "code",
   "execution_count": 24,
   "id": "0c8073a6-97cc-4897-bb71-1967749128c1",
   "metadata": {},
   "outputs": [],
   "source": [
    "%matplotlib inline"
   ]
  },
  {
   "cell_type": "markdown",
   "id": "91479537-57eb-4072-90be-1e159e42d568",
   "metadata": {},
   "source": [
    "### Load the dataset from Kaggle"
   ]
  },
  {
   "cell_type": "code",
   "execution_count": 80,
   "id": "61b58cbe",
   "metadata": {},
   "outputs": [
    {
     "name": "stderr",
     "output_type": "stream",
     "text": [
      "C:\\Users\\Arthur\\AppData\\Local\\Temp\\ipykernel_48608\\3023648099.py:5: DeprecationWarning: load_dataset is deprecated and will be removed in future version.\n",
      "  salaries_df = kagglehub.load_dataset(\n"
     ]
    },
    {
     "name": "stdout",
     "output_type": "stream",
     "text": [
      "       Unnamed: 0  YearsExperience         Salary\n",
      "count   30.000000        30.000000      30.000000\n",
      "mean    14.500000         5.413333   76004.000000\n",
      "std      8.803408         2.837888   27414.429785\n",
      "min      0.000000         1.200000   37732.000000\n",
      "25%      7.250000         3.300000   56721.750000\n",
      "50%     14.500000         4.800000   65238.000000\n",
      "75%     21.750000         7.800000  100545.750000\n",
      "max     29.000000        10.600000  122392.000000\n"
     ]
    }
   ],
   "source": [
    "# Set the path to the file you'd like to load\n",
    "file_path = \"Salary_dataset.csv\"\n",
    "\n",
    "# Load the latest version\n",
    "salaries_df = kagglehub.load_dataset(\n",
    "  KaggleDatasetAdapter.PANDAS,\n",
    "  \"abhishek14398/salary-dataset-simple-linear-regression\",\n",
    "  file_path\n",
    ")\n",
    "\n",
    "#Remove first column because it is useless\n",
    "salaries_df = salaries_df.drop('Unnamed: 0', axis=1)"
   ]
  },
  {
   "cell_type": "markdown",
   "id": "9db1b157-bb4b-4493-adbf-0d19a151e989",
   "metadata": {},
   "source": [
    "### Observing the data"
   ]
  },
  {
   "cell_type": "code",
   "execution_count": 81,
   "id": "6fbbd9d7",
   "metadata": {},
   "outputs": [
    {
     "name": "stdout",
     "output_type": "stream",
     "text": [
      "<class 'pandas.core.frame.DataFrame'>\n",
      "RangeIndex: 30 entries, 0 to 29\n",
      "Data columns (total 2 columns):\n",
      " #   Column           Non-Null Count  Dtype  \n",
      "---  ------           --------------  -----  \n",
      " 0   YearsExperience  30 non-null     float64\n",
      " 1   Salary           30 non-null     float64\n",
      "dtypes: float64(2)\n",
      "memory usage: 612.0 bytes\n",
      "       YearsExperience         Salary\n",
      "count        30.000000      30.000000\n",
      "mean          5.413333   76004.000000\n",
      "std           2.837888   27414.429785\n",
      "min           1.200000   37732.000000\n",
      "25%           3.300000   56721.750000\n",
      "50%           4.800000   65238.000000\n",
      "75%           7.800000  100545.750000\n",
      "max          10.600000  122392.000000\n",
      "First 5 records:    YearsExperience   Salary\n",
      "0              1.2  39344.0\n",
      "1              1.4  46206.0\n",
      "2              1.6  37732.0\n",
      "3              2.1  43526.0\n",
      "4              2.3  39892.0\n"
     ]
    }
   ],
   "source": [
    "salaries_df.info()\n",
    "print(salaries_df.describe())\n",
    "print(\"First 5 records:\", salaries_df.head())"
   ]
  },
  {
   "cell_type": "code",
   "execution_count": 66,
   "id": "e89a0952-39d2-45b0-bb07-fe8f4f19577d",
   "metadata": {},
   "outputs": [
    {
     "data": {
      "text/plain": [
       "Text(0, 0.5, 'Salary')"
      ]
     },
     "execution_count": 66,
     "metadata": {},
     "output_type": "execute_result"
    },
    {
     "data": {
      "image/png": "[encoded data removed]",
      "text/plain": [
       "<Figure size 640x480 with 1 Axes>"
      ]
     },
     "metadata": {},
     "output_type": "display_data"
    }
   ],
   "source": [
    "# Plotting the histogram\n",
    "fig, ax = plt.subplots()\n",
    "ax.plot(salaries_df['YearsExperience'], salaries_df['Salary'], 'o')\n",
    "\n",
    "ax.set_title('Salaries according to experience')\n",
    "ax.set_xlabel('Experience in years')\n",
    "ax.set_ylabel('Salary')"
   ]
  },
  {
   "cell_type": "markdown",
   "id": "04ed08f8-fa69-47f3-880c-ad6f73392ec6",
   "metadata": {},
   "source": [
    "### Interpreting the graph\n",
    "\n",
    "As we can see, the points we plotted seem to form a straight line that cuts the y-axis approximately around 37000. This fact indicates that we could use a linear function of the input to predict the output. This is a typical use case of simple linear regression.\n",
    "\n",
    "To get a better intuition of this, let's plot a straight line that could fit best our data (a straight line that passes close to most of our data points)."
   ]
  },
  {
   "cell_type": "code",
   "execution_count": 67,
   "id": "b3e0c640-d863-460e-8ab2-3f8ff3b4fd75",
   "metadata": {},
   "outputs": [
    {
     "data": {
      "image/png": "[encoded data removed]",
      "text/plain": [
       "<Figure size 640x480 with 1 Axes>"
      ]
     },
     "execution_count": 67,
     "metadata": {},
     "output_type": "execute_result"
    }
   ],
   "source": [
    "# Define the affine function: y = ax + b\n",
    "a = 9000  # slope\n",
    "b = 28000  # y-intercept\n",
    "\n",
    "# Create x values (from -10 to 10)\n",
    "x = salaries_df['YearsExperience']\n",
    "\n",
    "# Calculate y values\n",
    "y = a * x + b\n",
    "\n",
    "# Plot\n",
    "ax.plot(x, y, label=f'y = {a}x + {b}', color='red')\n",
    "fig"
   ]
  },
  {
   "cell_type": "markdown",
   "id": "8b2d00e7-697f-499e-b38c-5165914b9231",
   "metadata": {},
   "source": [
    "As you can see, this straight line, defined as an affine function, can fit our data pretty good. This is the idea behind linear regression. We want to find the linear function of the input (in this case, a simple affine function) that best fits our data. Once we found it using training, we will be able to use this function as our hypothesis function to predict output for unseen data.\n",
    "\n",
    "So when we use linear regression, we suppose that the label in our labeled data can be modeled as a linear function of the inputs.\n",
    "\n",
    "Now let's talk about how we can train our model to find the hypothesis function that best fits our data.\n",
    "\n",
    "As we saw earlier our hypothesis function is parameterized using parameters from the $\\theta$ vector.\n",
    "These parameters allow us to modify the hypothesis function and fit it to our data.\n",
    "\n",
    "Before we can even think about fitting our model, we're gonna need a way to measure how good our hypothesis function fits the data. This is done using a loss function. A loss function measures how much our hypothesis function is wrong in its predictions compared to the actual data. For linear regression, the loss function is the Mean Squared Error (MSE) of the hypothesis function. For each training example, we will calculate the error of the model's prediction (the difference between the expected output and the prediction), we will square the error, and finally we will sum the squared errors and divide the result by the total number of training examples.\n",
    "\n",
    "More formally, according to Wikipedia the MSE is defined as follow:\n",
    ">In statistics, the mean squared error (MSE)\n",
    "> or mean squared deviation (MSD) of an estimator (of a procedure for estimating an unobserved quantity) measures the average of the squares of the errors—that is, the average squared difference between the estimated values and the true value.\n",
    "\n",
    "Given the vector of expected outputs $y$ as well as the vector of predicted values $\\hat{y}$, the MSE will be computed according to the following formula:\n",
    "\n",
    "$$\n",
    "\\mathcal{L}(\\theta) = \\frac{1}{m}\\sum_{i=1}^{m} (y_{i}-\\hat{y}_{i})^{2}\n",
    "$$\n",
    "\n",
    "where m is the number of training examples.\n",
    "\n",
    "So when we express the predicted values as the result of the hypothesis function:\n",
    "\n",
    "$$\n",
    "\\mathcal{L}(\\theta) = \\frac{1}{m}\\sum_{i=1}^{m} (y_{i}-h_{\\theta}(x^{(i)}))^{2}\n",
    "$$\n",
    "\n",
    "where $x^{(i)}$ is the i-th training example.\n",
    "\n",
    "Why do we use the MSE as our loss function for linear regression?\n",
    "\n",
    "1) it directly measures what we care about: minimizing MSE, we're trying to make predictions as close as possible to the actual data — which is the goal of regression\n",
    "\n",
    "2) it makes the result positive so we avoid positive and negative errors canceling each other\n",
    "\n",
    "3) the bigger the error, the heavier the impact it has on the loss function\n",
    "\n",
    "4) it has nice mathematical properties:\n",
    "    - it is differentiable everywhere (important for gradient descent)\n",
    "    - it is convex in the case of linear regression, it has one global minimum so optimization is straightforward and reliable\n",
    "\n",
    "\n",
    "\n",
    "Once we have our loss function, our goal will be to minimize the loss. To do that, we will use a method called gradient descent. \n",
    "\n",
    "Gradient Descent is an algorithm to find the minimum of a function.\n",
    "You can think of it like:\n",
    "> You're on a hilly surface (the loss function), and you want to go downhill to the lowest point (the minimum loss). Gradient descent tells you which direction is downhill and how far to go.\n",
    "\n",
    "We start with some initial guess for the parameters (e.g., weights in linear regression), then iteratively update them using:\n",
    "\n",
    "$$\n",
    "\\theta \\leftarrow \\theta - \\eta \\nabla_\\theta \\mathcal{L}(\\theta)\n",
    "$$\n",
    "\n",
    "- $\\theta$: current parameters (e.g. weights, bias)\n",
    "- $\\eta$: learning rate (step size)\n",
    "- $\\nabla_\\theta \\mathcal{L}(\\theta)$: the gradient of the loss function with respect to $\\theta$\n",
    "\n",
    "\n",
    "Why does this work?\n",
    "\n",
    "Because of a beautiful fact from calculus:\n",
    "\n",
    "> The gradient of a function at a point points in the direction of steepest increase.  \n",
    "> So the negative gradient points in the direction of steepest decrease — the fastest way downhill.\n",
    "\n",
    "So at every step, gradient descent moves in the direction that most quickly reduces the loss.\n",
    "\n",
    "Let's compute the gradient vector of our loss function. To do that we need to compute the partial derivative for each parameter $\\theta_{i}$.\n",
    "\n",
    "$$\n",
    "\\frac{\\partial \\mathcal{L}}{\\partial \\theta_{j}} = \\frac{2}{m}\\sum_{i=1}^{m} (y_{i}-h_{\\theta}(x^{(i)}))x^{(i)}_{j} \n",
    "$$\n",
    "\n",
    "\n",
    "That's it, now that we have all this theory sorted out, we can implement linear regression. All we have to do is start with some parameters, performs gradient descent using the formula for the gradient we have, and once we reach a point where the loss function barely changes we can decide to stop because we arrived close enought to the global minimum.\n",
    "\n",
    "Let's implement that!"
   ]
  },
  {
   "cell_type": "markdown",
   "id": "6512fdb6-c71b-4774-948d-797469e4534f",
   "metadata": {},
   "source": [
    "### Vectorization\n",
    "\n",
    "$$\n",
    "\\underbrace{\\hat{y}}_{n \\times 1} = \\underbrace{X}_{m \\times n}\\cdot\\underbrace{\\theta}_{1 \\times n}\n",
    "$$"
   ]
  },
  {
   "cell_type": "code",
   "execution_count": 98,
   "id": "19d35d5d-7bef-48b1-b7c5-f7cbad4a02e1",
   "metadata": {},
   "outputs": [
    {
     "name": "stdout",
     "output_type": "stream",
     "text": [
      "epoch 0\n",
      "current_loss 16370630223.325739 gradient x0                -1.600164e+05\n",
      "YearsExperience   -1.101406e+06\n",
      "dtype: float64 theta [21331.88790696 39659.21688781]\n",
      "epoch 1\n",
      "current_loss 374873860123.6712 gradient x0                -7.722459e+05\n",
      "YearsExperience   -5.273070e+06\n",
      "dtype: float64 theta x0                  37333.532773\n",
      "YearsExperience    149799.829031\n",
      "dtype: float64\n",
      "epoch 2\n",
      "current_loss 8594850344908.458 gradient x0                -3.703959e+06\n",
      "YearsExperience   -2.524858e+07\n",
      "dtype: float64 theta x0                 114558.126832\n",
      "YearsExperience    677106.852657\n",
      "dtype: float64\n",
      "epoch 3\n",
      "current_loss 197067514210739.6 gradient x0                -1.774225e+07\n",
      "YearsExperience   -1.208990e+08\n",
      "dtype: float64 theta x0                 4.849540e+05\n",
      "YearsExperience    3.201965e+06\n",
      "dtype: float64\n",
      "epoch 4\n",
      "current_loss 4518484512547149.0 gradient x0                -8.496311e+07\n",
      "YearsExperience   -5.789096e+08\n",
      "dtype: float64 theta x0                 2.259179e+06\n",
      "YearsExperience    1.529186e+07\n",
      "dtype: float64\n",
      "epoch 5\n",
      "current_loss 1.036025878319435e+17 gradient x0                -4.068425e+08\n",
      "YearsExperience   -2.772040e+09\n",
      "dtype: float64 theta x0                 1.075549e+07\n",
      "YearsExperience    7.318282e+07\n",
      "dtype: float64\n",
      "epoch 6\n",
      "current_loss 2.3754637701722854e+18 gradient x0                -1.948124e+09\n",
      "YearsExperience   -1.327359e+10\n",
      "dtype: float64 theta x0                 5.143974e+07\n",
      "YearsExperience    3.503868e+08\n",
      "dtype: float64\n",
      "epoch 7\n",
      "current_loss 5.446609242734489e+19 gradient x0                -9.328373e+09\n",
      "YearsExperience   -6.355903e+10\n",
      "dtype: float64 theta x0                 2.462522e+08\n",
      "YearsExperience    1.677746e+09\n",
      "dtype: float64\n",
      "epoch 8\n",
      "current_loss 1.2488320224374602e+21 gradient x0                -4.466783e+10\n",
      "YearsExperience   -3.043450e+11\n",
      "dtype: float64 theta x0                 1.179089e+09\n",
      "YearsExperience    8.033649e+09\n",
      "dtype: float64\n",
      "epoch 9\n",
      "current_loss 2.863398769328409e+22 gradient x0                -2.138867e+11\n",
      "YearsExperience   -1.457320e+12\n",
      "dtype: float64 theta x0                 5.645873e+09\n",
      "YearsExperience    3.846815e+10\n",
      "dtype: float64\n"
     ]
    }
   ],
   "source": [
    "m = salaries_df.shape[0]\n",
    "\n",
    "#Create the input features matrix and add the x0 column on the left\n",
    "X = salaries_df.iloc[:, :-1] \n",
    "X.insert(loc=0, column='x0', value=np.ones(m))\n",
    "y = salaries_df.iloc[:, -1]\n",
    "\n",
    "n = X.shape[1]\n",
    "\n",
    "theta = np.random.uniform(0, 50000, size=n)\n",
    "\n",
    "def compute_loss_and_gradient(X, theta, y):\n",
    "    y_predicted = X @ theta\n",
    "    errors = y - y_predicted\n",
    "    loss = (1/(2*m))*(errors.T@errors)\n",
    "    gradient = (1/m)*(X.T@errors)\n",
    "    return loss, gradient\n",
    "\n",
    "threshold = 0.1\n",
    "max_epochs = 10\n",
    "learning_rate = 0.1\n",
    "last_loss = None\n",
    "for i in range(max_epochs):\n",
    "    print(\"epoch\", i)\n",
    "    current_loss, gradient = compute_loss_and_gradient(X, theta, y)\n",
    "    print(\"current_loss\", current_loss, \"gradient\", gradient, \"theta\", theta)\n",
    "    if(last_loss and last_loss-current_loss > 0 and last_loss-current_loss < threshold):\n",
    "        break\n",
    "    last_loss = current_loss\n",
    "    theta = theta - learning_rate*gradient"
   ]
  }
 ],
 "metadata": {
  "kernelspec": {
   "display_name": "Python 3 (ipykernel)",
   "language": "python",
   "name": "python3"
  },
  "language_info": {
   "codemirror_mode": {
    "name": "ipython",
    "version": 3
   },
   "file_extension": ".py",
   "mimetype": "text/x-python",
   "name": "python",
   "nbconvert_exporter": "python",
   "pygments_lexer": "ipython3",
   "version": "3.11.7"
  }
 },
 "nbformat": 4,
 "nbformat_minor": 5
}
